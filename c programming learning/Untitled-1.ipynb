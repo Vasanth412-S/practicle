{
 "cells": [
  {
   "cell_type": "code",
   "execution_count": 46,
   "metadata": {},
   "outputs": [
    {
     "name": "stderr",
     "output_type": "stream",
     "text": [
      "UsageError: Cell magic `%%` not found.\n"
     ]
    }
   ],
   "source": [
    "%% file c_program.c\n",
    "\n",
    "\n",
    "#include<stdio.h>\n",
    "int main()\n",
    "{\n",
    "   float a,b,res;\n",
    "   printf(\"enter the number : \\n\");\n",
    "   scanf(\"%f%f\",&a,&b);\n",
    "   res=a*b;\n",
    "   printf(\" muliple of two floating number or %.2f\",res);\n",
    "   return 0;\n",
    "}"
   ]
  },
  {
   "cell_type": "code",
   "execution_count": 47,
   "metadata": {},
   "outputs": [
    {
     "name": "stdout",
     "output_type": "stream",
     "text": [
      "Overwriting c_program.c\n"
     ]
    }
   ],
   "source": [
    "%%file c_program.c\n",
    "\n",
    "#include<stdio.h>\n",
    "int main()\n",
    "{\n",
    "   float a,b,res;\n",
    "   printf(\"enter the number : \\n\");\n",
    "   scanf(\"%f%f\",&a,&b);\n",
    "   res=a*b;\n",
    "   printf(\" muliple of two floating number or %.2f\",res);\n",
    "   return 0;\n",
    "}\n",
    "\n"
   ]
  },
  {
   "cell_type": "code",
   "execution_count": 48,
   "metadata": {},
   "outputs": [
    {
     "name": "stdout",
     "output_type": "stream",
     "text": [
      "Microsoft Windows [Version 10.0.22621.2215]\n",
      "(c) Microsoft Corporation. All rights reserved.\n",
      "\n",
      "(base) e:\\c programming learning>gcc c_program.c -g -o c_program\n",
      "\n",
      "(base) e:\\c programming learning>"
     ]
    }
   ],
   "source": [
    "%%cmd\n",
    "gcc c_program.c -g -o c_program\n"
   ]
  },
  {
   "cell_type": "code",
   "execution_count": 49,
   "metadata": {},
   "outputs": [
    {
     "name": "stdout",
     "output_type": "stream",
     "text": [
      "Microsoft Windows [Version 10.0.22621.2215]\n",
      "(c) Microsoft Corporation. All rights reserved.\n",
      "\n",
      "(base) e:\\c programming learning>./c_program\n",
      "\n",
      "(base) e:\\c programming learning>"
     ]
    },
    {
     "name": "stderr",
     "output_type": "stream",
     "text": [
      "'.' is not recognized as an internal or external command,\n",
      "operable program or batch file.\n"
     ]
    }
   ],
   "source": [
    "%%cmd\n",
    "./c_program\n"
   ]
  },
  {
   "cell_type": "code",
   "execution_count": 50,
   "metadata": {},
   "outputs": [
    {
     "name": "stdout",
     "output_type": "stream",
     "text": [
      "Overwriting prog1.c\n"
     ]
    }
   ],
   "source": [
    "%%file prog1.c\n",
    "\n",
    "#include <stdio.h>\n",
    "int main()\n",
    "{\n",
    "    printf(\"hello world\");\n",
    "    return 0;\n",
    "}"
   ]
  },
  {
   "cell_type": "code",
   "execution_count": 51,
   "metadata": {},
   "outputs": [
    {
     "name": "stdout",
     "output_type": "stream",
     "text": [
      "Microsoft Windows [Version 10.0.22621.2215]\n",
      "(c) Microsoft Corporation. All rights reserved.\n",
      "\n",
      "(base) e:\\c programming learning>gcc prog1.c -g -o prog1 \n",
      "\n",
      "(base) e:\\c programming learning>"
     ]
    }
   ],
   "source": [
    "%%cmd\n",
    "gcc prog1.c -g -o prog1 "
   ]
  },
  {
   "cell_type": "code",
   "execution_count": 52,
   "metadata": {},
   "outputs": [
    {
     "name": "stdout",
     "output_type": "stream",
     "text": [
      "Microsoft Windows [Version 10.0.22621.2215]\n",
      "(c) Microsoft Corporation. All rights reserved.\n",
      "\n",
      "(base) e:\\c programming learning>prog1\n",
      "hello world\n",
      "(base) e:\\c programming learning>"
     ]
    }
   ],
   "source": [
    "%%cmd\n",
    "prog1"
   ]
  },
  {
   "cell_type": "code",
   "execution_count": 57,
   "metadata": {},
   "outputs": [
    {
     "name": "stderr",
     "output_type": "stream",
     "text": [
      "UsageError: Cell magic `%%__path__` not found.\n"
     ]
    }
   ],
   "source": []
  }
 ],
 "metadata": {
  "kernelspec": {
   "display_name": "base",
   "language": "python",
   "name": "python3"
  },
  "language_info": {
   "codemirror_mode": {
    "name": "ipython",
    "version": 3
   },
   "file_extension": ".py",
   "mimetype": "text/x-python",
   "name": "python",
   "nbconvert_exporter": "python",
   "pygments_lexer": "ipython3",
   "version": "3.9.13"
  },
  "orig_nbformat": 4
 },
 "nbformat": 4,
 "nbformat_minor": 2
}
